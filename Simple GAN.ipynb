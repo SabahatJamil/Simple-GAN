{
 "cells": [
  {
   "cell_type": "code",
   "execution_count": 2,
   "id": "85d3d1be",
   "metadata": {},
   "outputs": [],
   "source": [
    "import torch\n",
    "import torch.nn as nn\n",
    "import torchvision\n",
    "from torch.utils.data import Dataset, DataLoader\n",
    "import torchvision.transforms as Transformer\n",
    "import torchvision.datasets as Datasets"
   ]
  },
  {
   "cell_type": "code",
   "execution_count": 28,
   "id": "25f156bb",
   "metadata": {},
   "outputs": [],
   "source": [
    "# Creating Simple Discriminator using only linear layers\n",
    "class Discriminator(nn.Module):\n",
    "    def __init__(self,image_size):\n",
    "        super().__init__()\n",
    "        self.disc_mod = nn.Sequential(nn.Linear(image_size,256),\n",
    "                                 nn.LeakyReLU(0.1),\n",
    "                                 nn.Linear(256,128),\n",
    "                                 nn.LeakyReLU(0.1),\n",
    "                                 nn.Linear(128,64),\n",
    "                                 nn.LeakyReLU(0.1),\n",
    "                                 nn.Linear(64,1),\n",
    "                                 nn.Sigmoid(),)\n",
    "    def forward(self,x):\n",
    "        return self.disc_mod(x)"
   ]
  },
  {
   "cell_type": "code",
   "execution_count": 37,
   "id": "141e3baa",
   "metadata": {},
   "outputs": [],
   "source": [
    "#also Creating Simple Generator using only linear layers\n",
    "class Generator(nn.Module):\n",
    "    def __init__(self,latent,image_input):\n",
    "        super().__init__()\n",
    "        self.gen_mod = nn.Sequential(nn.Linear(latent,256,),\n",
    "                                nn.LeakyReLU(0.1),\n",
    "                                nn.LeakyReLU(0.1),\n",
    "                                nn.Linear(256,128),\n",
    "                                nn.LeakyReLU(0.1),\n",
    "                                nn.Linear(128,64),\n",
    "                                nn.LeakyReLU(0.1),\n",
    "                                nn.Linear(64,image_size),\n",
    "                                nn.Tanh(),)\n",
    "    def forward(self,x):\n",
    "        return self.gen_mod(x)"
   ]
  },
  {
   "cell_type": "code",
   "execution_count": 38,
   "id": "df1c5925",
   "metadata": {},
   "outputs": [],
   "source": [
    "#writing device agnostic code\n",
    "device = \"cuda\" if torch.cuda.is_available() else \"cpu\""
   ]
  },
  {
   "cell_type": "code",
   "execution_count": 39,
   "id": "32e8e01d",
   "metadata": {},
   "outputs": [],
   "source": [
    "# setting hyperparameters\n",
    "learning_rate = 3e-4\n",
    "latent = 128\n",
    "image_size = 28*28*1\n",
    "batch_size = 32\n",
    "epochs = 30"
   ]
  },
  {
   "cell_type": "code",
   "execution_count": 40,
   "id": "200340ff",
   "metadata": {},
   "outputs": [],
   "source": [
    "# creating the objects of the model classes and sending them to device (if cude is avaiable). Here I don't have GPU\n",
    "disc_obj = Discriminator(image_size).to(device)\n",
    "gen_obj = Generator(latent,image_size).to(device)\n",
    "\n",
    "fixed_noise = torch.randn(batch_size,latent).to(device)\n",
    "\n",
    "# creating a transformation for data\n",
    "transforms = Transformer.Compose([Transformer.ToTensor(), \n",
    "                                  Transformer.Normalize((0.5,),(0.5,))]\n",
    ")\n",
    "\n",
    "# downloading dataset, transforming and making a dataloader object\n",
    "dataset = Datasets.MNIST(root=\"/datasets\",transform = transforms, download=True)\n",
    "loader = DataLoader(dataset,batch_size = batch_size, shuffle=True)"
   ]
  },
  {
   "cell_type": "code",
   "execution_count": 41,
   "id": "682f4bb9",
   "metadata": {},
   "outputs": [],
   "source": [
    "# making optimizers for respective models\n",
    "disc_optim = torch.optim.Adam(disc_obj.parameters(),lr=learning_rate)\n",
    "gen_optim = torch.optim.Adam(gen_obj.parameters(),lr=learning_rate)"
   ]
  },
  {
   "cell_type": "code",
   "execution_count": 42,
   "id": "74bbedea",
   "metadata": {},
   "outputs": [],
   "source": [
    "# defining the loss function, specifically the criterion\n",
    "criterion = nn.BCELoss()"
   ]
  },
  {
   "cell_type": "code",
   "execution_count": null,
   "id": "449706a5",
   "metadata": {},
   "outputs": [],
   "source": [
    "criterion = nn.BCELoss()"
   ]
  },
  {
   "cell_type": "code",
   "execution_count": null,
   "id": "68baf2e1",
   "metadata": {},
   "outputs": [],
   "source": [
    "####disc_real = disc(real).view(-1)"
   ]
  },
  {
   "cell_type": "code",
   "execution_count": 46,
   "id": "a67a2eec",
   "metadata": {},
   "outputs": [
    {
     "name": "stdout",
     "output_type": "stream",
     "text": [
      "Epoch[0/30] Loss D: 0.6326, Loss G: 0.6556177139282227\n",
      "Epoch[1/30] Loss D: 0.4277, Loss G: 4.156589984893799\n",
      "Epoch[2/30] Loss D: 0.2560, Loss G: 5.031439781188965\n",
      "Epoch[3/30] Loss D: 0.2675, Loss G: 2.9391422271728516\n",
      "Epoch[4/30] Loss D: 0.1281, Loss G: 2.78663969039917\n",
      "Epoch[5/30] Loss D: 0.1656, Loss G: 2.7487823963165283\n",
      "Epoch[6/30] Loss D: 0.0461, Loss G: 3.6343250274658203\n",
      "Epoch[7/30] Loss D: 0.0881, Loss G: 3.3692963123321533\n",
      "Epoch[8/30] Loss D: 0.1495, Loss G: 3.215775728225708\n",
      "Epoch[9/30] Loss D: 0.0741, Loss G: 3.3964715003967285\n",
      "Epoch[10/30] Loss D: 0.1829, Loss G: 1.7728264331817627\n",
      "Epoch[11/30] Loss D: 0.2112, Loss G: 1.872462272644043\n",
      "Epoch[12/30] Loss D: 0.1595, Loss G: 2.7073116302490234\n",
      "Epoch[13/30] Loss D: 0.2168, Loss G: 2.390434980392456\n",
      "Epoch[14/30] Loss D: 0.2851, Loss G: 2.114976167678833\n",
      "Epoch[15/30] Loss D: 0.2237, Loss G: 2.341750144958496\n",
      "Epoch[16/30] Loss D: 0.3471, Loss G: 2.1070556640625\n",
      "Epoch[17/30] Loss D: 0.3643, Loss G: 1.9745821952819824\n",
      "Epoch[18/30] Loss D: 0.1970, Loss G: 2.113079309463501\n",
      "Epoch[19/30] Loss D: 0.4704, Loss G: 2.3019227981567383\n",
      "Epoch[20/30] Loss D: 0.2330, Loss G: 2.1276731491088867\n",
      "Epoch[21/30] Loss D: 0.3484, Loss G: 2.427764415740967\n",
      "Epoch[22/30] Loss D: 0.3276, Loss G: 2.374619960784912\n",
      "Epoch[23/30] Loss D: 0.2611, Loss G: 2.6809933185577393\n",
      "Epoch[24/30] Loss D: 0.3771, Loss G: 1.9277880191802979\n",
      "Epoch[25/30] Loss D: 0.2176, Loss G: 2.0873382091522217\n",
      "Epoch[26/30] Loss D: 0.3973, Loss G: 2.063596248626709\n",
      "Epoch[27/30] Loss D: 0.3097, Loss G: 2.1025376319885254\n",
      "Epoch[28/30] Loss D: 0.3342, Loss G: 2.1382899284362793\n",
      "Epoch[29/30] Loss D: 0.3570, Loss G: 1.7901023626327515\n"
     ]
    }
   ],
   "source": [
    "disc_loss = []\n",
    "gen_loss = []\n",
    "for epoch in range(epochs):\n",
    "    \n",
    "    for index,(real,_) in enumerate(loader):\n",
    "        #for reshaping the real into (batch size,flattened image size), 28x28 is the image size of MNIST dataset, so \n",
    "        real = real.view(-1,28*28).to(device)\n",
    "        batch_size = real.shape[0]\n",
    "        \n",
    "        # its a fake dataset with the batch size and latent vairable which is just fake rows of same size (as of input of generator)\n",
    "        noise = torch.randn(batch_size,latent).to(device)\n",
    "        #passing noise to generator model and getting the output of needed size\n",
    "        fake = gen_obj(noise)\n",
    "        \n",
    "        #calculating loss for discriminator for real part\n",
    "        disc_real = disc_obj(real).view(-1)\n",
    "        disc_real_loss = criterion(disc_real,torch.ones_like(disc_real))\n",
    "        \n",
    "        #calculating loss for discriminator for fake part\n",
    "        disc_fake = disc_obj(fake).view(-1)\n",
    "        disc_fake_loss = criterion(disc_fake,torch.zeros_like(disc_fake))\n",
    "        \n",
    "        #calculating discriminator criterion \n",
    "        disc_criterion = (disc_real_loss+disc_fake_loss)/2\n",
    "        \n",
    "        disc_obj.zero_grad()\n",
    "        disc_criterion.backward(retain_graph=True)\n",
    "        disc_optim.step()\n",
    "        \n",
    "        #calculating generator criterion\n",
    "        out = disc_obj(fake).view(-1)\n",
    "        gen_criterion = criterion(out,torch.ones_like(out))\n",
    "        \n",
    "        gen_obj.zero_grad()\n",
    "        gen_criterion.backward()\n",
    "        gen_optim.step()\n",
    "        \n",
    "        if index == 0:\n",
    "            disc_loss.append(disc_criterion)\n",
    "            gen_loss.append(gen_criterion)\n",
    "            print(\n",
    "            f\"Epoch[{epoch}/{epochs}] Loss D: {disc_criterion:.4f}, Loss G: {gen_criterion}\"\n",
    "            )"
   ]
  },
  {
   "cell_type": "code",
   "execution_count": 48,
   "id": "37d49c57",
   "metadata": {},
   "outputs": [],
   "source": [
    "epoch_list = [x for x in range(epochs)]"
   ]
  },
  {
   "cell_type": "code",
   "execution_count": 52,
   "id": "3699710d",
   "metadata": {},
   "outputs": [],
   "source": [
    "d_loss = [x.detach().numpy() for x in disc_loss]\n",
    "g_loss = [x.detach().numpy() for x in gen_loss]"
   ]
  },
  {
   "cell_type": "code",
   "execution_count": 54,
   "id": "6d52262f",
   "metadata": {},
   "outputs": [
    {
     "data": {
      "image/png": "[encoded data removed]",
      "text/plain": [
       "<Figure size 640x480 with 1 Axes>"
      ]
     },
     "metadata": {},
     "output_type": "display_data"
    }
   ],
   "source": [
    "import matplotlib.pyplot as plt\n",
    "plt.plot(epoch_list,d_loss,label=\"Discriminator Loss\",marker=\"o\")\n",
    "plt.plot(epoch_list,g_loss,label=\"Generator Loss\",marker=\"s\")\n",
    "\n",
    "plt.xlabel('X-axis (Integer List)')\n",
    "plt.ylabel('Y-axis (List Values)')\n",
    "plt.title('Line Plots with Integer List as X-axis')\n",
    "plt.legend()\n",
    "\n",
    "plt.show()"
   ]
  },
  {
   "cell_type": "code",
   "execution_count": null,
   "id": "bea33895",
   "metadata": {},
   "outputs": [],
   "source": []
  }
 ],
 "metadata": {
  "kernelspec": {
   "display_name": "Python 3 (ipykernel)",
   "language": "python",
   "name": "python3"
  },
  "language_info": {
   "codemirror_mode": {
    "name": "ipython",
    "version": 3
   },
   "file_extension": ".py",
   "mimetype": "text/x-python",
   "name": "python",
   "nbconvert_exporter": "python",
   "pygments_lexer": "ipython3",
   "version": "3.9.13"
  }
 },
 "nbformat": 4,
 "nbformat_minor": 5
}
